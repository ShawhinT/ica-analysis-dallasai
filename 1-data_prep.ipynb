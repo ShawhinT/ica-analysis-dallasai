{
 "cells": [
  {
   "cell_type": "markdown",
   "metadata": {},
   "source": [
    "# Data Preparation\n",
    "\n",
    "Code authored by: Shaw Talebi"
   ]
  },
  {
   "cell_type": "markdown",
   "metadata": {},
   "source": [
    "### imports"
   ]
  },
  {
   "cell_type": "code",
   "execution_count": 1,
   "metadata": {},
   "outputs": [],
   "source": [
    "import pandas as pd\n",
    "import numpy as np\n",
    "\n",
    "from sklearn.decomposition import PCA\n",
    "from sklearn.preprocessing import MinMaxScaler\n",
    "\n",
    "from openai import OpenAI\n",
    "from dotenv import load_dotenv\n",
    "import os"
   ]
  },
  {
   "cell_type": "code",
   "execution_count": 2,
   "metadata": {},
   "outputs": [],
   "source": [
    "# setup api client\n",
    "load_dotenv()\n",
    "client = OpenAI(api_key=os.getenv(\"OPENAI_API_KEY\"))"
   ]
  },
  {
   "cell_type": "markdown",
   "metadata": {},
   "source": [
    "### functions"
   ]
  },
  {
   "cell_type": "code",
   "execution_count": 3,
   "metadata": {
    "jupyter": {
     "source_hidden": true
    }
   },
   "outputs": [],
   "source": [
    "def compute_openai_embedding(text, column_name: str, model_name: str = 'text-embedding-3-small'):\n",
    "    \"\"\"\n",
    "    Compute an embedding for a given text using OpenAI's embeddings API.\n",
    "    \n",
    "    Args:\n",
    "        text (str or list-like): The text to compute an embedding for\n",
    "        column_name (str): The name of the column to compute an embedding for\n",
    "        model_name (str): OpenAI model to use (default: 'text-embedding-3-small')\n",
    "    \n",
    "    Returns:\n",
    "        embeddings: numpy array of shape (N, 1536)\n",
    "    \"\"\"\n",
    "    response = client.embeddings.create(input = f\"{column_name}: \" + text, model=model_name)\n",
    "    embedding_list = [embedding_object.embedding for embedding_object in response.data]\n",
    "    return np.array(embedding_list)"
   ]
  },
  {
   "cell_type": "markdown",
   "metadata": {},
   "source": [
    "### load data"
   ]
  },
  {
   "cell_type": "code",
   "execution_count": 4,
   "metadata": {},
   "outputs": [
    {
     "name": "stdout",
     "output_type": "stream",
     "text": [
      "(119, 2)\n"
     ]
    }
   ],
   "source": [
    "df_students = pd.read_csv('data/students.csv')\n",
    "df_students = df_students.set_index('Id')\n",
    "print(df_students.shape)"
   ]
  },
  {
   "cell_type": "code",
   "execution_count": 5,
   "metadata": {},
   "outputs": [
    {
     "name": "stdout",
     "output_type": "stream",
     "text": [
      "(94, 2)\n"
     ]
    }
   ],
   "source": [
    "# drop missing course join responses\n",
    "df_students = df_students[df_students['course_join_question'] != 'No response provided']\n",
    "print(df_students.shape)"
   ]
  },
  {
   "cell_type": "code",
   "execution_count": 6,
   "metadata": {},
   "outputs": [
    {
     "name": "stdout",
     "output_type": "stream",
     "text": [
      "(83, 2)\n"
     ]
    }
   ],
   "source": [
    "# drop missing job titles\n",
    "df_students = df_students[df_students['job_title'] != 'Unknown job title']\n",
    "print(df_students.shape)"
   ]
  },
  {
   "cell_type": "markdown",
   "metadata": {},
   "source": [
    "#### join reason\n",
    "\n",
    "Embed join reasons and reduce dimensionality with PCA"
   ]
  },
  {
   "cell_type": "code",
   "execution_count": 7,
   "metadata": {},
   "outputs": [],
   "source": [
    "# embed join reasons\n",
    "embeddings = compute_openai_embedding(df_students['course_join_question'], \"Course Join Reason Response: \")"
   ]
  },
  {
   "cell_type": "code",
   "execution_count": 8,
   "metadata": {},
   "outputs": [],
   "source": [
    "# Compute PCA\n",
    "n_components = 5\n",
    "pca = PCA(n_components=n_components)\n",
    "principal_components = pca.fit_transform(embeddings)\n",
    "\n",
    "# Scale each column to [-1, 1] range\n",
    "scaler = MinMaxScaler(feature_range=(-1, 1))\n",
    "scaled_components = scaler.fit_transform(principal_components)"
   ]
  },
  {
   "cell_type": "code",
   "execution_count": 9,
   "metadata": {},
   "outputs": [],
   "source": [
    "# add scaled components to df\n",
    "for i in range(n_components):\n",
    "    df_students[f'join_reason_pc{i+1}'] = scaled_components[:, i]"
   ]
  },
  {
   "cell_type": "code",
   "execution_count": 10,
   "metadata": {},
   "outputs": [
    {
     "data": {
      "text/html": [
       "<div>\n",
       "<style scoped>\n",
       "    .dataframe tbody tr th:only-of-type {\n",
       "        vertical-align: middle;\n",
       "    }\n",
       "\n",
       "    .dataframe tbody tr th {\n",
       "        vertical-align: top;\n",
       "    }\n",
       "\n",
       "    .dataframe thead th {\n",
       "        text-align: right;\n",
       "    }\n",
       "</style>\n",
       "<table border=\"1\" class=\"dataframe\">\n",
       "  <thead>\n",
       "    <tr style=\"text-align: right;\">\n",
       "      <th></th>\n",
       "      <th>job_title</th>\n",
       "      <th>course_join_question</th>\n",
       "      <th>join_reason_pc1</th>\n",
       "      <th>join_reason_pc2</th>\n",
       "      <th>join_reason_pc3</th>\n",
       "      <th>join_reason_pc4</th>\n",
       "      <th>join_reason_pc5</th>\n",
       "    </tr>\n",
       "    <tr>\n",
       "      <th>Id</th>\n",
       "      <th></th>\n",
       "      <th></th>\n",
       "      <th></th>\n",
       "      <th></th>\n",
       "      <th></th>\n",
       "      <th></th>\n",
       "      <th></th>\n",
       "    </tr>\n",
       "  </thead>\n",
       "  <tbody>\n",
       "    <tr>\n",
       "      <th>2</th>\n",
       "      <td>Product Manager</td>\n",
       "      <td>Understand Gen AI usecases</td>\n",
       "      <td>0.836463</td>\n",
       "      <td>0.772963</td>\n",
       "      <td>-0.173617</td>\n",
       "      <td>0.098713</td>\n",
       "      <td>0.425706</td>\n",
       "    </tr>\n",
       "    <tr>\n",
       "      <th>3</th>\n",
       "      <td>Founder</td>\n",
       "      <td>I would like to get practical experience in bu...</td>\n",
       "      <td>0.702372</td>\n",
       "      <td>-0.305023</td>\n",
       "      <td>0.463640</td>\n",
       "      <td>0.086446</td>\n",
       "      <td>-0.398564</td>\n",
       "    </tr>\n",
       "    <tr>\n",
       "      <th>6</th>\n",
       "      <td>Data Analyst/Economist</td>\n",
       "      <td>I would like to start to have a grasp of how I...</td>\n",
       "      <td>1.000000</td>\n",
       "      <td>0.277557</td>\n",
       "      <td>0.252502</td>\n",
       "      <td>0.478106</td>\n",
       "      <td>0.712033</td>\n",
       "    </tr>\n",
       "    <tr>\n",
       "      <th>9</th>\n",
       "      <td>VP Finance</td>\n",
       "      <td>Two things: (1) Build AI applications to strea...</td>\n",
       "      <td>0.502678</td>\n",
       "      <td>-0.213529</td>\n",
       "      <td>0.099288</td>\n",
       "      <td>1.000000</td>\n",
       "      <td>0.511309</td>\n",
       "    </tr>\n",
       "    <tr>\n",
       "      <th>10</th>\n",
       "      <td>Head of Product</td>\n",
       "      <td>Uplevel my knowledge on AI and ideally be able...</td>\n",
       "      <td>0.829856</td>\n",
       "      <td>0.028958</td>\n",
       "      <td>0.313570</td>\n",
       "      <td>-0.178677</td>\n",
       "      <td>0.623492</td>\n",
       "    </tr>\n",
       "  </tbody>\n",
       "</table>\n",
       "</div>"
      ],
      "text/plain": [
       "                 job_title                               course_join_question  \\\n",
       "Id                                                                              \n",
       "2          Product Manager                         Understand Gen AI usecases   \n",
       "3                  Founder  I would like to get practical experience in bu...   \n",
       "6   Data Analyst/Economist  I would like to start to have a grasp of how I...   \n",
       "9               VP Finance  Two things: (1) Build AI applications to strea...   \n",
       "10         Head of Product  Uplevel my knowledge on AI and ideally be able...   \n",
       "\n",
       "    join_reason_pc1  join_reason_pc2  join_reason_pc3  join_reason_pc4  \\\n",
       "Id                                                                       \n",
       "2          0.836463         0.772963        -0.173617         0.098713   \n",
       "3          0.702372        -0.305023         0.463640         0.086446   \n",
       "6          1.000000         0.277557         0.252502         0.478106   \n",
       "9          0.502678        -0.213529         0.099288         1.000000   \n",
       "10         0.829856         0.028958         0.313570        -0.178677   \n",
       "\n",
       "    join_reason_pc5  \n",
       "Id                   \n",
       "2          0.425706  \n",
       "3         -0.398564  \n",
       "6          0.712033  \n",
       "9          0.511309  \n",
       "10         0.623492  "
      ]
     },
     "execution_count": 10,
     "metadata": {},
     "output_type": "execute_result"
    }
   ],
   "source": [
    "df_students.head()"
   ]
  },
  {
   "cell_type": "markdown",
   "metadata": {},
   "source": [
    "#### job titles\n",
    "\n",
    "Categorize job titles using embedding model"
   ]
  },
  {
   "cell_type": "code",
   "execution_count": 11,
   "metadata": {},
   "outputs": [],
   "source": [
    "# define job categories\n",
    "job_category_dict = {\n",
    "    \"IC\": [\n",
    "        \"engineer\", \"analyst\", \"scientist\", \"developer\", \"designer\", \"specialist\",\n",
    "        \"consultant\", \"associate\", \"technician\", \"coordinator\", \"assistant\",\n",
    "        \"architect\", \"writer\", \"editor\", \"researcher\", \"contributor\", \"operator\"\n",
    "    ],\n",
    "    \"Manager\": [\n",
    "        \"manager\", \"lead\", \"supervisor\", \"head of\", \"team lead\", \"co-lead\",\n",
    "        \"project lead\", \"project manager\", \"product manager\", \"scrum master\"\n",
    "    ],\n",
    "    \"Leader\": [\n",
    "        \"director\", \"vp\", \"vice president\", \"chief\", \"cfo\", \"ceo\", \"coo\", \"cto\", \"cmo\",\n",
    "        \"executive\", \"head\", \"senior director\", \"managing director\", \"president\", \"partner\"\n",
    "    ],\n",
    "    \"Entrepreneur\": [\n",
    "        \"founder\", \"co-founder\", \"owner\", \"entrepreneur\", \"self-employed\", \"independent consultant\",\n",
    "        \"business owner\", \"startup\", \"freelancer\", \"solo founder\"\n",
    "    ],\n",
    "    \"Student\": [\n",
    "        \"student\", \"intern\", \"graduate student\", \"phd\", \"undergraduate\", \"bachelor\", \"master\", \n",
    "        \"mba\", \"candidate\", \"doctoral\", \"research assistant\", \"teaching assistant\"\n",
    "    ]\n",
    "}\n",
    "\n",
    "job_category_ser = pd.Series({k: f\"{k} ({', '.join(v)})\" for k, v in job_category_dict.items()})\n",
    "job_category_list = job_category_ser.index.to_list()"
   ]
  },
  {
   "cell_type": "code",
   "execution_count": 12,
   "metadata": {},
   "outputs": [],
   "source": [
    "# compute embeddings for job titles and categories\n",
    "title_embeddings = compute_openai_embedding(df_students['job_title'], \"Job Title: \")\n",
    "category_embeddings = compute_openai_embedding(job_category_ser, \"Job Category: \")"
   ]
  },
  {
   "cell_type": "code",
   "execution_count": 13,
   "metadata": {},
   "outputs": [],
   "source": [
    "# match title to categories based on similarity\n",
    "\n",
    "# Normalize embeddings for cosine similarity calculation\n",
    "title_embeddings_norm = title_embeddings / np.linalg.norm(title_embeddings, axis=1, keepdims=True)\n",
    "category_embeddings_norm = category_embeddings / np.linalg.norm(category_embeddings, axis=1, keepdims=True)\n",
    "\n",
    "# Compute cosine similarity using dot product\n",
    "similarities = np.dot(title_embeddings_norm, category_embeddings_norm.T)\n",
    "\n",
    "# Get the best matching category for each title\n",
    "best_category_indices = np.argmax(similarities, axis=1)\n",
    "df_students['job_category'] = [job_category_list[idx] for idx in best_category_indices]"
   ]
  },
  {
   "cell_type": "code",
   "execution_count": 14,
   "metadata": {},
   "outputs": [],
   "source": [
    "# encode job_category using 1-hot encoding\n",
    "for category in job_category_list:\n",
    "    df_students[f'job_category_{category}'] = (df_students['job_category'] == category).astype(int)"
   ]
  },
  {
   "cell_type": "markdown",
   "metadata": {},
   "source": [
    "### join with review data"
   ]
  },
  {
   "cell_type": "code",
   "execution_count": 15,
   "metadata": {},
   "outputs": [],
   "source": [
    "# load review data\n",
    "df_reviews = pd.read_csv('data/reviews.csv')"
   ]
  },
  {
   "cell_type": "code",
   "execution_count": 16,
   "metadata": {},
   "outputs": [],
   "source": [
    "# join with student data\n",
    "df = df_students.join(df_reviews.set_index('id'), how='left')"
   ]
  },
  {
   "cell_type": "code",
   "execution_count": 17,
   "metadata": {},
   "outputs": [],
   "source": [
    "# create boolean for 5 star review\n",
    "df['5_star_review'] = df['rating'] == 10.0"
   ]
  },
  {
   "cell_type": "markdown",
   "metadata": {},
   "source": [
    "### save data"
   ]
  },
  {
   "cell_type": "code",
   "execution_count": 19,
   "metadata": {},
   "outputs": [],
   "source": [
    "df.to_csv('data/students_reviews.csv')"
   ]
  }
 ],
 "metadata": {
  "kernelspec": {
   "display_name": "Python 3 (ipykernel)",
   "language": "python",
   "name": "python3"
  },
  "language_info": {
   "codemirror_mode": {
    "name": "ipython",
    "version": 3
   },
   "file_extension": ".py",
   "mimetype": "text/x-python",
   "name": "python",
   "nbconvert_exporter": "python",
   "pygments_lexer": "ipython3",
   "version": "3.12.10"
  }
 },
 "nbformat": 4,
 "nbformat_minor": 4
}
